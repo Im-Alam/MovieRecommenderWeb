{
 "cells": [
  {
   "cell_type": "code",
   "execution_count": 1,
   "id": "0d003cbd-f71f-477a-baa8-1f2476b18c33",
   "metadata": {},
   "outputs": [
    {
     "name": "stderr",
     "output_type": "stream",
     "text": [
      "2024-03-30 13:03:59.955512: I tensorflow/tsl/cuda/cudart_stub.cc:28] Could not find cuda drivers on your machine, GPU will not be used.\n",
      "2024-03-30 13:04:02.742010: E tensorflow/compiler/xla/stream_executor/cuda/cuda_dnn.cc:9342] Unable to register cuDNN factory: Attempting to register factory for plugin cuDNN when one has already been registered\n",
      "2024-03-30 13:04:02.742122: E tensorflow/compiler/xla/stream_executor/cuda/cuda_fft.cc:609] Unable to register cuFFT factory: Attempting to register factory for plugin cuFFT when one has already been registered\n",
      "2024-03-30 13:04:02.742286: E tensorflow/compiler/xla/stream_executor/cuda/cuda_blas.cc:1518] Unable to register cuBLAS factory: Attempting to register factory for plugin cuBLAS when one has already been registered\n",
      "2024-03-30 13:04:03.160979: I tensorflow/tsl/cuda/cudart_stub.cc:28] Could not find cuda drivers on your machine, GPU will not be used.\n",
      "2024-03-30 13:04:10.066552: W tensorflow/compiler/tf2tensorrt/utils/py_utils.cc:38] TF-TRT Warning: Could not find TensorRT\n"
     ]
    }
   ],
   "source": [
    "import numpy as np\n",
    "import pandas as pd\n",
    "import tensorflow as tf\n",
    "from tensorflow import keras"
   ]
  },
  {
   "cell_type": "code",
   "execution_count": 41,
   "id": "b42f8421-9fb8-4a60-bfae-073146b8f37c",
   "metadata": {},
   "outputs": [],
   "source": [
    "X = pd.read_csv('MovieData/small_movies_X.csv')\n",
    "Y = pd.read_csv('MovieData/small_movies_Y.csv')\n",
    "R = pd.read_csv('MovieData/small_movies_R.csv')\n",
    "W = pd.read_csv('MovieData/small_movies_W.csv')\n",
    "B = pd.read_csv('MovieData/small_movies_b.csv')\n",
    "movie_list = pd.read_csv('MovieData/small_movie_list.csv')"
   ]
  },
  {
   "cell_type": "code",
   "execution_count": 42,
   "id": "4a199467-19c9-4c53-9499-fa5ebc888330",
   "metadata": {},
   "outputs": [
    {
     "data": {
      "text/plain": [
       "0.0        5.0\n",
       "0.0.1      5.0\n",
       "0.0.2      0.5\n",
       "0.0.3      5.0\n",
       "0.0.4      5.0\n",
       "          ... \n",
       "0.0.433    5.0\n",
       "0.0.434    5.0\n",
       "0.0.435    5.0\n",
       "0.0.436    5.0\n",
       "0.0.437    5.0\n",
       "Length: 443, dtype: float64"
      ]
     },
     "execution_count": 42,
     "metadata": {},
     "output_type": "execute_result"
    }
   ],
   "source": [
    "Y.max()"
   ]
  },
  {
   "cell_type": "code",
   "execution_count": 43,
   "id": "87a84fa3-ba2e-49f9-b19b-e4a21541eaf4",
   "metadata": {},
   "outputs": [
    {
     "data": {
      "text/plain": [
       "'\\nimport os\\ndirectory = \\'/path/to/csv/files\\'\\n\\nfor filename in os.listdir(directory):\\n    if filename.endswith(\".csv\"):\\n        filepath = os.path.join(directory, filename)\\n        >>trim file name from .csv then use it\\n        f\\'{filename}\\' = pd.read_csv(filepath)\\n'"
      ]
     },
     "execution_count": 43,
     "metadata": {},
     "output_type": "execute_result"
    }
   ],
   "source": [
    "\"\"\"\n",
    "import os\n",
    "directory = '/path/to/csv/files'\n",
    "\n",
    "for filename in os.listdir(directory):\n",
    "    if filename.endswith(\".csv\"):\n",
    "        filepath = os.path.join(directory, filename)\n",
    "        >>trim file name from .csv then use it\n",
    "        f'{filename}' = pd.read_csv(filepath)\n",
    "\"\"\""
   ]
  },
  {
   "cell_type": "code",
   "execution_count": 44,
   "id": "45df0200-ddb4-45bc-b01d-01e1737e053e",
   "metadata": {},
   "outputs": [
    {
     "name": "stdout",
     "output_type": "stream",
     "text": [
      "Y: (4777, 443) R: (4777, 443)\n",
      "X: (4777, 10)\n",
      "n_user: 443\n",
      "n_movie: 4777\n",
      "n: 10\n",
      "W: (442, 10)\n",
      "B (1, 443)\n"
     ]
    }
   ],
   "source": [
    "print('Y:',Y.shape, 'R:',R.shape)\n",
    "print('X:',X.shape)\n",
    "print('n_user:',Y.shape[1])\n",
    "print('n_movie:',Y.shape[0])\n",
    "print('n:',X.shape[1])\n",
    "print('W:',W.shape)\n",
    "print('B',B.shape)"
   ]
  },
  {
   "cell_type": "code",
   "execution_count": 45,
   "id": "bf846754-fecd-41bf-a53f-996c144821b1",
   "metadata": {},
   "outputs": [
    {
     "data": {
      "text/plain": [
       "(443, 10)"
      ]
     },
     "execution_count": 45,
     "metadata": {},
     "output_type": "execute_result"
    }
   ],
   "source": [
    "W.loc[442] = W.iloc[0]\n",
    "W.shape"
   ]
  },
  {
   "cell_type": "code",
   "execution_count": 46,
   "id": "fbc56ce3-10dd-49aa-b2af-adb064fccf30",
   "metadata": {},
   "outputs": [
    {
     "data": {
      "text/html": [
       "<div>\n",
       "<style scoped>\n",
       "    .dataframe tbody tr th:only-of-type {\n",
       "        vertical-align: middle;\n",
       "    }\n",
       "\n",
       "    .dataframe tbody tr th {\n",
       "        vertical-align: top;\n",
       "    }\n",
       "\n",
       "    .dataframe thead th {\n",
       "        text-align: right;\n",
       "    }\n",
       "</style>\n",
       "<table border=\"1\" class=\"dataframe\">\n",
       "  <thead>\n",
       "    <tr style=\"text-align: right;\">\n",
       "      <th></th>\n",
       "      <th>0</th>\n",
       "      <th>1</th>\n",
       "      <th>2</th>\n",
       "      <th>3</th>\n",
       "      <th>4</th>\n",
       "      <th>5</th>\n",
       "      <th>6</th>\n",
       "      <th>7</th>\n",
       "      <th>8</th>\n",
       "      <th>9</th>\n",
       "      <th>...</th>\n",
       "      <th>433</th>\n",
       "      <th>434</th>\n",
       "      <th>435</th>\n",
       "      <th>436</th>\n",
       "      <th>437</th>\n",
       "      <th>438</th>\n",
       "      <th>439</th>\n",
       "      <th>440</th>\n",
       "      <th>441</th>\n",
       "      <th>442</th>\n",
       "    </tr>\n",
       "  </thead>\n",
       "  <tbody>\n",
       "    <tr>\n",
       "      <th>0</th>\n",
       "      <td>0.236095</td>\n",
       "      <td>0.356534</td>\n",
       "      <td>0.1282</td>\n",
       "      <td>0.315502</td>\n",
       "      <td>0.236364</td>\n",
       "      <td>-0.229178</td>\n",
       "      <td>-0.144015</td>\n",
       "      <td>0.075727</td>\n",
       "      <td>-0.370031</td>\n",
       "      <td>-0.021354</td>\n",
       "      <td>...</td>\n",
       "      <td>-0.176575</td>\n",
       "      <td>-0.473329</td>\n",
       "      <td>-0.361718</td>\n",
       "      <td>0.084787</td>\n",
       "      <td>0.429559</td>\n",
       "      <td>-0.405086</td>\n",
       "      <td>0.45839</td>\n",
       "      <td>0.412608</td>\n",
       "      <td>-0.36224</td>\n",
       "      <td>-0.32014</td>\n",
       "    </tr>\n",
       "  </tbody>\n",
       "</table>\n",
       "<p>1 rows × 443 columns</p>\n",
       "</div>"
      ],
      "text/plain": [
       "        0         1       2         3         4         5         6    \\\n",
       "0  0.236095  0.356534  0.1282  0.315502  0.236364 -0.229178 -0.144015   \n",
       "\n",
       "        7         8         9    ...       433       434       435       436  \\\n",
       "0  0.075727 -0.370031 -0.021354  ... -0.176575 -0.473329 -0.361718  0.084787   \n",
       "\n",
       "        437       438      439       440      441      442  \n",
       "0  0.429559 -0.405086  0.45839  0.412608 -0.36224 -0.32014  \n",
       "\n",
       "[1 rows x 443 columns]"
      ]
     },
     "execution_count": 46,
     "metadata": {},
     "output_type": "execute_result"
    }
   ],
   "source": [
    "B.columns = W.index\n",
    "B"
   ]
  },
  {
   "cell_type": "code",
   "execution_count": 47,
   "id": "ca025f6b-ece2-4972-85b4-5e2e2e944234",
   "metadata": {},
   "outputs": [],
   "source": [
    "X_r = np.array(X)\n",
    "R_r = np.array(R)\n",
    "Y_r = np.array(Y)\n",
    "W_r = np.array(W)\n",
    "B_r = np.array(B)"
   ]
  },
  {
   "cell_type": "code",
   "execution_count": 48,
   "id": "f7ce88c7-360c-4b61-a278-98a8303ce538",
   "metadata": {},
   "outputs": [
    {
     "data": {
      "text/plain": [
       "'\\n#LOOP IMPLEMENTATION\\ndef cost_fun(X, W, B, Y, R, lambda_):\\n    nm, nu = Y.shape\\n    J_cost = 0\\n    for j in range(nu):\\n        w = W[j,:]\\n        b = B[0,j]\\n        for i in range(nm):\\n            J_cost += (R[i,j]*(np.dot(w, X[i]) + b - Y[i,j]))**2\\n    J_cost += lambda_*(np.sum(W*W) + np.sum(X*X))\\n    J_cost /= 2\\n    return J_cost\\n'"
      ]
     },
     "execution_count": 48,
     "metadata": {},
     "output_type": "execute_result"
    }
   ],
   "source": [
    "'''\n",
    "#LOOP IMPLEMENTATION\n",
    "def cost_fun(X, W, B, Y, R, lambda_):\n",
    "    nm, nu = Y.shape\n",
    "    J_cost = 0\n",
    "    for j in range(nu):\n",
    "        w = W[j,:]\n",
    "        b = B[0,j]\n",
    "        for i in range(nm):\n",
    "            J_cost += (R[i,j]*(np.dot(w, X[i]) + b - Y[i,j]))**2\n",
    "    J_cost += lambda_*(np.sum(W*W) + np.sum(X*X))\n",
    "    J_cost /= 2\n",
    "    return J_cost\n",
    "'''\n",
    "#cost_fun(X_r, W_r, B_r, Y_r, R_r, .2)"
   ]
  },
  {
   "cell_type": "code",
   "execution_count": 49,
   "id": "64eab1a9-66a0-4ea1-b284-3cb45fb6fcde",
   "metadata": {},
   "outputs": [],
   "source": [
    "#VECTOR IMPLEMENTATION USING NUMPY\n",
    "def cost_funV(X, W, B, Y, R, lambda_):\n",
    "    \"\"\"\n",
    "    Y: (4777, 443)\n",
    "    R: (4777, 443)\n",
    "    X: (4777, 10)\n",
    "    n_user: 443\n",
    "    n_movie: 4777\n",
    "    n: 10\n",
    "    W: (443, 10)\n",
    "    B (1, 443)\n",
    "    \"\"\"\n",
    "    J = 0.5*np.sum(R*(np.dot(X, W.T) + B - Y)**2)\n",
    "    J += 0.5*lambda_*(np.sum(W*W )+ np.sum(X*X))\n",
    "    return J"
   ]
  },
  {
   "cell_type": "code",
   "execution_count": 50,
   "id": "5d87c9d3-5549-4867-b390-3013c15a30dc",
   "metadata": {},
   "outputs": [
    {
     "data": {
      "text/plain": [
       "276621.6848353459"
      ]
     },
     "execution_count": 50,
     "metadata": {},
     "output_type": "execute_result"
    }
   ],
   "source": [
    "cost_funV(X_r,W_r,B_r,Y_r,R_r,.2)"
   ]
  },
  {
   "cell_type": "code",
   "execution_count": 51,
   "id": "a97eaf4f-2fca-4f62-89dc-0140c908e970",
   "metadata": {},
   "outputs": [],
   "source": [
    "#VECTOR IMPLEMENTATION USING TENSORFLOW\n",
    "def cofi_cost_func_v(X, W, b, Y, R, lambda_):\n",
    "    \"\"\"\n",
    "    Returns the cost for the content-based filtering\n",
    "    Vectorized for speed. Uses tensorflow operations to be compatible with custom training loop.\n",
    "    Args:\n",
    "      X (ndarray (num_movies,num_features)): matrix of item features\n",
    "      W (ndarray (num_users,num_features)) : matrix of user parameters\n",
    "      b (ndarray (1, num_users)            : vector of user parameters\n",
    "      Y (ndarray (num_movies,num_users)    : matrix of user ratings of movies\n",
    "      R (ndarray (num_movies,num_users)    : matrix, where R(i, j) = 1 if the i-th movies was rated by the j-th user\n",
    "      lambda_ (float): regularization parameter\n",
    "    Returns:\n",
    "      J (float) : Cost\n",
    "    \"\"\"\n",
    "    j = (tf.linalg.matmul(X, tf.transpose(W)) + b - Y)*R\n",
    "    J = 0.5 * tf.reduce_sum(j**2) + (lambda_/2) * (tf.reduce_sum(X**2) + tf.reduce_sum(W**2))\n",
    "    return J"
   ]
  },
  {
   "cell_type": "code",
   "execution_count": 52,
   "id": "b89b0ffb-5fcc-4a6b-bd2f-6a2053c61bea",
   "metadata": {},
   "outputs": [
    {
     "data": {
      "text/plain": [
       "<tf.Tensor: shape=(), dtype=float64, numpy=276621.6848353459>"
      ]
     },
     "execution_count": 52,
     "metadata": {},
     "output_type": "execute_result"
    }
   ],
   "source": [
    "cofi_cost_func_v(X_r, W_r, B_r, Y_r, R_r, .2)"
   ]
  },
  {
   "cell_type": "code",
   "execution_count": 138,
   "id": "6bfb43b1-235b-498c-9728-6bbeca9e363d",
   "metadata": {},
   "outputs": [],
   "source": [
    "#Rating By a new user:\n",
    "my_ratings = np.zeros(Y_r.shape[0])\n",
    "\n",
    "my_ratings[2700] = 5 \n",
    "my_ratings[2609] = 2\n",
    "my_ratings[929]  = 5   \n",
    "my_ratings[246]  = 5   \n",
    "my_ratings[2716] = 3  \n",
    "my_ratings[1150] = 5  \n",
    "my_ratings[382]  = 2 \n",
    "my_ratings[366]  = 5  \n",
    "my_ratings[622]  = 5   \n",
    "my_ratings[988]  = 3   \n",
    "my_ratings[2925] = 1  \n",
    "my_ratings[2937] = 1  \n",
    "my_ratings[793]  = 5\n",
    "my_rated = [i for i in range(len(my_ratings)) if my_ratings[i] > 0]\n",
    "#13 movies were rated"
   ]
  },
  {
   "cell_type": "code",
   "execution_count": null,
   "id": "ad7b912a-b423-4c2d-962e-2de1ab87dcd5",
   "metadata": {},
   "outputs": [],
   "source": [
    "# Reload ratings and add new ratings\n",
    "Y_r = np.c_[my_ratings, Y_r]\n",
    "R_r = np.c_[(my_ratings != 0).astype(int), R_r]"
   ]
  },
  {
   "cell_type": "code",
   "execution_count": 55,
   "id": "036410b1-43bc-40ce-8989-e8633d9527ee",
   "metadata": {},
   "outputs": [],
   "source": [
    "from sklearn.preprocessing import StandardScaler\n",
    "scalar = StandardScaler()\n",
    "tr = R_r*Y_r\n",
    "scalar.fit(tr)\n",
    "Y_norm = scalar.fit_transform(tr)"
   ]
  },
  {
   "cell_type": "code",
   "execution_count": 89,
   "id": "082933e7-0296-4470-9a2d-87a4823c269c",
   "metadata": {},
   "outputs": [
    {
     "name": "stdout",
     "output_type": "stream",
     "text": [
      "Y_r: (4777, 444)\n",
      "R_r: (4777, 444)\n"
     ]
    }
   ],
   "source": [
    "# Normalize the Dataset\n",
    "print('Y_r:',Y_r.shape)\n",
    "print('R_r:',R_r.shape)"
   ]
  },
  {
   "cell_type": "code",
   "execution_count": 90,
   "id": "138b7211-44da-4fb9-8687-d5882e01782f",
   "metadata": {},
   "outputs": [],
   "source": [
    "# Set Initial Parameters (W, X), use tf.Variable to track these variables\n",
    "\n",
    "n_movie, n_user = Y_r.shape\n",
    "n_feature = X_r.shape[1]\n",
    "\n",
    "W = tf.Variable(tf.random.normal((n_user,  n_feature),dtype=tf.float64),  name='W')\n",
    "B = tf.Variable(tf.random.normal((1, n_user),dtype=tf.float64),  name='B')\n",
    "\n",
    "X = tf.Variable(X_r,  name='X')\n",
    "\n",
    "optimizer = keras.optimizers.Adam(learning_rate= 0.01)"
   ]
  },
  {
   "cell_type": "code",
   "execution_count": 140,
   "id": "203dc1a5-12fb-4b4a-8adb-baa03dd46721",
   "metadata": {},
   "outputs": [],
   "source": [
    "optimizer = keras.optimizers.Adam(learning_rate= 1e-1)"
   ]
  },
  {
   "cell_type": "code",
   "execution_count": 141,
   "id": "cb2216be-08ac-4055-aa11-960355efbefb",
   "metadata": {},
   "outputs": [
    {
     "name": "stdout",
     "output_type": "stream",
     "text": [
      "Training loss at iteration 0: 7300.7\n",
      "Training loss at iteration 20: 6460.9\n",
      "Training loss at iteration 40: 5698.4\n",
      "Training loss at iteration 60: 5283.6\n",
      "Training loss at iteration 80: 5165.6\n",
      "Training loss at iteration 100: 5128.9\n",
      "Training loss at iteration 120: 5103.1\n",
      "Training loss at iteration 140: 5084.2\n",
      "Training loss at iteration 160: 5072.5\n",
      "Training loss at iteration 180: 5065.2\n",
      "Training loss at iteration 200: 5059.9\n"
     ]
    }
   ],
   "source": [
    "iterations = 201\n",
    "lambda_ = 1\n",
    "for iter in range(iterations):\n",
    "    # Use TensorFlow’s GradientTape to record the operations used to compute the cost \n",
    "    with tf.GradientTape() as tape:\n",
    "        # Compute the cost (forward pass included in cost)\n",
    "        cost_value = cofi_cost_func_v(X, W, B, Y_r, R_r, lambda_)\n",
    "\n",
    "    # Use the gradient tape to automatically retrieve the gradients of the trainable variables with respect to the loss\n",
    "    grads = tape.gradient( cost_value, [X, W, B] )\n",
    "\n",
    "    # Run one step of gradient descent by updating the value of the variables to minimize the loss.\n",
    "    optimizer.apply_gradients( zip(grads, [X, W, B]) )\n",
    "\n",
    "    # Log periodically.\n",
    "    if iter % 20 == 0:\n",
    "        print(f\"Training loss at iteration {iter}: {cost_value:0.1f}\")"
   ]
  },
  {
   "cell_type": "markdown",
   "id": "14f07b60-d79b-4328-b4d8-e779d7a4879a",
   "metadata": {},
   "source": [
    "<h3>Making Prediction</h3>"
   ]
  },
  {
   "cell_type": "code",
   "execution_count": 100,
   "id": "61c11b82-f5d3-4fb4-9889-e74e3befd3fc",
   "metadata": {},
   "outputs": [],
   "source": [
    "mean = scalar.mean_.reshape(1,-1)"
   ]
  },
  {
   "cell_type": "code",
   "execution_count": 142,
   "id": "392ed04f-04ae-4d65-8658-67238e436edd",
   "metadata": {},
   "outputs": [
    {
     "data": {
      "text/plain": [
       "9.26250631755876"
      ]
     },
     "execution_count": 142,
     "metadata": {},
     "output_type": "execute_result"
    }
   ],
   "source": [
    "predicted_rating = np.dot(np.array(X), np.array(W).T) + np.array(B)\n",
    "(predicted_rating).max()"
   ]
  },
  {
   "cell_type": "code",
   "execution_count": 143,
   "id": "3d3c21ae-d88e-4a85-a4df-bdcea18a16b9",
   "metadata": {},
   "outputs": [
    {
     "data": {
      "text/plain": [
       "array([[3.04373947, 4.44477699, 4.29219759, ..., 2.15548354, 3.80269838,\n",
       "        2.99656796],\n",
       "       [4.00370076, 4.47895016, 3.76645832, ..., 2.80078199, 3.5105092 ,\n",
       "        2.29248964],\n",
       "       [3.01538141, 4.49104567, 3.71298849, ..., 2.29938477, 3.28348144,\n",
       "        2.0291407 ],\n",
       "       ...,\n",
       "       [3.72652247, 4.67140295, 3.96375834, ..., 2.93067721, 3.91447009,\n",
       "        3.58996425],\n",
       "       [3.72652247, 4.67140296, 3.96375834, ..., 2.93067722, 3.91447009,\n",
       "        3.58996426],\n",
       "       [3.72652247, 4.67140295, 3.96375834, ..., 2.93067721, 3.91447009,\n",
       "        3.58996425]])"
      ]
     },
     "execution_count": 143,
     "metadata": {},
     "output_type": "execute_result"
    }
   ],
   "source": [
    "predicted_rating"
   ]
  },
  {
   "cell_type": "code",
   "execution_count": 144,
   "id": "f0e113fa-254f-4509-a823-8d12f919c887",
   "metadata": {},
   "outputs": [
    {
     "data": {
      "text/html": [
       "<div>\n",
       "<style scoped>\n",
       "    .dataframe tbody tr th:only-of-type {\n",
       "        vertical-align: middle;\n",
       "    }\n",
       "\n",
       "    .dataframe tbody tr th {\n",
       "        vertical-align: top;\n",
       "    }\n",
       "\n",
       "    .dataframe thead th {\n",
       "        text-align: right;\n",
       "    }\n",
       "</style>\n",
       "<table border=\"1\" class=\"dataframe\">\n",
       "  <thead>\n",
       "    <tr style=\"text-align: right;\">\n",
       "      <th></th>\n",
       "      <th>Unnamed: 0</th>\n",
       "      <th>mean rating</th>\n",
       "      <th>number of ratings</th>\n",
       "      <th>title</th>\n",
       "    </tr>\n",
       "  </thead>\n",
       "  <tbody>\n",
       "    <tr>\n",
       "      <th>0</th>\n",
       "      <td>0</td>\n",
       "      <td>3.400000</td>\n",
       "      <td>5</td>\n",
       "      <td>Yards, The (2000)</td>\n",
       "    </tr>\n",
       "    <tr>\n",
       "      <th>1</th>\n",
       "      <td>1</td>\n",
       "      <td>3.250000</td>\n",
       "      <td>6</td>\n",
       "      <td>Next Friday (2000)</td>\n",
       "    </tr>\n",
       "    <tr>\n",
       "      <th>2</th>\n",
       "      <td>2</td>\n",
       "      <td>2.000000</td>\n",
       "      <td>4</td>\n",
       "      <td>Supernova (2000)</td>\n",
       "    </tr>\n",
       "    <tr>\n",
       "      <th>3</th>\n",
       "      <td>3</td>\n",
       "      <td>2.000000</td>\n",
       "      <td>4</td>\n",
       "      <td>Down to You (2000)</td>\n",
       "    </tr>\n",
       "    <tr>\n",
       "      <th>4</th>\n",
       "      <td>4</td>\n",
       "      <td>2.672414</td>\n",
       "      <td>29</td>\n",
       "      <td>Scream 3 (2000)</td>\n",
       "    </tr>\n",
       "    <tr>\n",
       "      <th>...</th>\n",
       "      <td>...</td>\n",
       "      <td>...</td>\n",
       "      <td>...</td>\n",
       "      <td>...</td>\n",
       "    </tr>\n",
       "    <tr>\n",
       "      <th>4773</th>\n",
       "      <td>4773</td>\n",
       "      <td>3.500000</td>\n",
       "      <td>1</td>\n",
       "      <td>Jon Stewart Has Left the Building (2015)</td>\n",
       "    </tr>\n",
       "    <tr>\n",
       "      <th>4774</th>\n",
       "      <td>4774</td>\n",
       "      <td>4.000000</td>\n",
       "      <td>1</td>\n",
       "      <td>Black Butler: Book of the Atlantic (2017)</td>\n",
       "    </tr>\n",
       "    <tr>\n",
       "      <th>4775</th>\n",
       "      <td>4775</td>\n",
       "      <td>3.500000</td>\n",
       "      <td>1</td>\n",
       "      <td>No Game No Life: Zero (2017)</td>\n",
       "    </tr>\n",
       "    <tr>\n",
       "      <th>4776</th>\n",
       "      <td>4776</td>\n",
       "      <td>3.500000</td>\n",
       "      <td>1</td>\n",
       "      <td>Flint (2017)</td>\n",
       "    </tr>\n",
       "    <tr>\n",
       "      <th>4777</th>\n",
       "      <td>4777</td>\n",
       "      <td>3.500000</td>\n",
       "      <td>1</td>\n",
       "      <td>Bungo Stray Dogs: Dead Apple (2018)</td>\n",
       "    </tr>\n",
       "  </tbody>\n",
       "</table>\n",
       "<p>4778 rows × 4 columns</p>\n",
       "</div>"
      ],
      "text/plain": [
       "      Unnamed: 0  mean rating  number of ratings  \\\n",
       "0              0     3.400000                  5   \n",
       "1              1     3.250000                  6   \n",
       "2              2     2.000000                  4   \n",
       "3              3     2.000000                  4   \n",
       "4              4     2.672414                 29   \n",
       "...          ...          ...                ...   \n",
       "4773        4773     3.500000                  1   \n",
       "4774        4774     4.000000                  1   \n",
       "4775        4775     3.500000                  1   \n",
       "4776        4776     3.500000                  1   \n",
       "4777        4777     3.500000                  1   \n",
       "\n",
       "                                          title  \n",
       "0                             Yards, The (2000)  \n",
       "1                            Next Friday (2000)  \n",
       "2                              Supernova (2000)  \n",
       "3                            Down to You (2000)  \n",
       "4                               Scream 3 (2000)  \n",
       "...                                         ...  \n",
       "4773   Jon Stewart Has Left the Building (2015)  \n",
       "4774  Black Butler: Book of the Atlantic (2017)  \n",
       "4775               No Game No Life: Zero (2017)  \n",
       "4776                               Flint (2017)  \n",
       "4777        Bungo Stray Dogs: Dead Apple (2018)  \n",
       "\n",
       "[4778 rows x 4 columns]"
      ]
     },
     "execution_count": 144,
     "metadata": {},
     "output_type": "execute_result"
    }
   ],
   "source": [
    "movie_list"
   ]
  },
  {
   "cell_type": "code",
   "execution_count": 150,
   "id": "7a5d82cb-a070-420e-950d-caf4129745a7",
   "metadata": {},
   "outputs": [
    {
     "data": {
      "text/html": [
       "<div>\n",
       "<style scoped>\n",
       "    .dataframe tbody tr th:only-of-type {\n",
       "        vertical-align: middle;\n",
       "    }\n",
       "\n",
       "    .dataframe tbody tr th {\n",
       "        vertical-align: top;\n",
       "    }\n",
       "\n",
       "    .dataframe thead th {\n",
       "        text-align: right;\n",
       "    }\n",
       "</style>\n",
       "<table border=\"1\" class=\"dataframe\">\n",
       "  <thead>\n",
       "    <tr style=\"text-align: right;\">\n",
       "      <th></th>\n",
       "      <th>Unnamed: 0</th>\n",
       "      <th>mean rating</th>\n",
       "      <th>number of ratings</th>\n",
       "      <th>title</th>\n",
       "    </tr>\n",
       "  </thead>\n",
       "  <tbody>\n",
       "    <tr>\n",
       "      <th>2914</th>\n",
       "      <td>2914</td>\n",
       "      <td>3.514706</td>\n",
       "      <td>34</td>\n",
       "      <td>Thor (2011)</td>\n",
       "    </tr>\n",
       "    <tr>\n",
       "      <th>392</th>\n",
       "      <td>392</td>\n",
       "      <td>3.205882</td>\n",
       "      <td>17</td>\n",
       "      <td>Kate &amp; Leopold (2001)</td>\n",
       "    </tr>\n",
       "    <tr>\n",
       "      <th>928</th>\n",
       "      <td>928</td>\n",
       "      <td>3.375000</td>\n",
       "      <td>12</td>\n",
       "      <td>Girl with a Pearl Earring (2003)</td>\n",
       "    </tr>\n",
       "    <tr>\n",
       "      <th>579</th>\n",
       "      <td>579</td>\n",
       "      <td>3.900000</td>\n",
       "      <td>25</td>\n",
       "      <td>Secretary (2002)</td>\n",
       "    </tr>\n",
       "    <tr>\n",
       "      <th>4552</th>\n",
       "      <td>4552</td>\n",
       "      <td>3.633333</td>\n",
       "      <td>15</td>\n",
       "      <td>Get Out (2017)</td>\n",
       "    </tr>\n",
       "    <tr>\n",
       "      <th>729</th>\n",
       "      <td>729</td>\n",
       "      <td>3.140625</td>\n",
       "      <td>32</td>\n",
       "      <td>Phone Booth (2002)</td>\n",
       "    </tr>\n",
       "    <tr>\n",
       "      <th>987</th>\n",
       "      <td>987</td>\n",
       "      <td>3.906250</td>\n",
       "      <td>16</td>\n",
       "      <td>Dawn of the Dead (2004)</td>\n",
       "    </tr>\n",
       "    <tr>\n",
       "      <th>154</th>\n",
       "      <td>154</td>\n",
       "      <td>2.607143</td>\n",
       "      <td>14</td>\n",
       "      <td>Vertical Limit (2000)</td>\n",
       "    </tr>\n",
       "    <tr>\n",
       "      <th>4</th>\n",
       "      <td>4</td>\n",
       "      <td>2.672414</td>\n",
       "      <td>29</td>\n",
       "      <td>Scream 3 (2000)</td>\n",
       "    </tr>\n",
       "    <tr>\n",
       "      <th>1481</th>\n",
       "      <td>1481</td>\n",
       "      <td>3.633333</td>\n",
       "      <td>30</td>\n",
       "      <td>Wallace &amp; Gromit in The Curse of the Were-Rabb...</td>\n",
       "    </tr>\n",
       "    <tr>\n",
       "      <th>2715</th>\n",
       "      <td>2715</td>\n",
       "      <td>3.684211</td>\n",
       "      <td>38</td>\n",
       "      <td>Despicable Me (2010)</td>\n",
       "    </tr>\n",
       "    <tr>\n",
       "      <th>643</th>\n",
       "      <td>643</td>\n",
       "      <td>3.875000</td>\n",
       "      <td>44</td>\n",
       "      <td>Equilibrium (2002)</td>\n",
       "    </tr>\n",
       "    <tr>\n",
       "      <th>876</th>\n",
       "      <td>876</td>\n",
       "      <td>3.175000</td>\n",
       "      <td>20</td>\n",
       "      <td>Intolerable Cruelty (2003)</td>\n",
       "    </tr>\n",
       "    <tr>\n",
       "      <th>1482</th>\n",
       "      <td>1482</td>\n",
       "      <td>4.071429</td>\n",
       "      <td>35</td>\n",
       "      <td>Kiss Kiss Bang Bang (2005)</td>\n",
       "    </tr>\n",
       "    <tr>\n",
       "      <th>1279</th>\n",
       "      <td>1279</td>\n",
       "      <td>3.846154</td>\n",
       "      <td>52</td>\n",
       "      <td>Million Dollar Baby (2004)</td>\n",
       "    </tr>\n",
       "    <tr>\n",
       "      <th>167</th>\n",
       "      <td>167</td>\n",
       "      <td>3.054688</td>\n",
       "      <td>64</td>\n",
       "      <td>Miss Congeniality (2000)</td>\n",
       "    </tr>\n",
       "    <tr>\n",
       "      <th>3082</th>\n",
       "      <td>3082</td>\n",
       "      <td>3.435185</td>\n",
       "      <td>54</td>\n",
       "      <td>The Hunger Games (2012)</td>\n",
       "    </tr>\n",
       "    <tr>\n",
       "      <th>2647</th>\n",
       "      <td>2647</td>\n",
       "      <td>3.300000</td>\n",
       "      <td>15</td>\n",
       "      <td>Hot Tub Time Machine (2010)</td>\n",
       "    </tr>\n",
       "    <tr>\n",
       "      <th>2575</th>\n",
       "      <td>2575</td>\n",
       "      <td>3.853448</td>\n",
       "      <td>58</td>\n",
       "      <td>Sherlock Holmes (2009)</td>\n",
       "    </tr>\n",
       "    <tr>\n",
       "      <th>2078</th>\n",
       "      <td>2078</td>\n",
       "      <td>3.805556</td>\n",
       "      <td>18</td>\n",
       "      <td>Hellboy II: The Golden Army (2008)</td>\n",
       "    </tr>\n",
       "  </tbody>\n",
       "</table>\n",
       "</div>"
      ],
      "text/plain": [
       "      Unnamed: 0  mean rating  number of ratings  \\\n",
       "2914        2914     3.514706                 34   \n",
       "392          392     3.205882                 17   \n",
       "928          928     3.375000                 12   \n",
       "579          579     3.900000                 25   \n",
       "4552        4552     3.633333                 15   \n",
       "729          729     3.140625                 32   \n",
       "987          987     3.906250                 16   \n",
       "154          154     2.607143                 14   \n",
       "4              4     2.672414                 29   \n",
       "1481        1481     3.633333                 30   \n",
       "2715        2715     3.684211                 38   \n",
       "643          643     3.875000                 44   \n",
       "876          876     3.175000                 20   \n",
       "1482        1482     4.071429                 35   \n",
       "1279        1279     3.846154                 52   \n",
       "167          167     3.054688                 64   \n",
       "3082        3082     3.435185                 54   \n",
       "2647        2647     3.300000                 15   \n",
       "2575        2575     3.853448                 58   \n",
       "2078        2078     3.805556                 18   \n",
       "\n",
       "                                                  title  \n",
       "2914                                        Thor (2011)  \n",
       "392                               Kate & Leopold (2001)  \n",
       "928                    Girl with a Pearl Earring (2003)  \n",
       "579                                    Secretary (2002)  \n",
       "4552                                     Get Out (2017)  \n",
       "729                                  Phone Booth (2002)  \n",
       "987                             Dawn of the Dead (2004)  \n",
       "154                               Vertical Limit (2000)  \n",
       "4                                       Scream 3 (2000)  \n",
       "1481  Wallace & Gromit in The Curse of the Were-Rabb...  \n",
       "2715                               Despicable Me (2010)  \n",
       "643                                  Equilibrium (2002)  \n",
       "876                          Intolerable Cruelty (2003)  \n",
       "1482                         Kiss Kiss Bang Bang (2005)  \n",
       "1279                         Million Dollar Baby (2004)  \n",
       "167                            Miss Congeniality (2000)  \n",
       "3082                            The Hunger Games (2012)  \n",
       "2647                        Hot Tub Time Machine (2010)  \n",
       "2575                             Sherlock Holmes (2009)  \n",
       "2078                 Hellboy II: The Golden Army (2008)  "
      ]
     },
     "execution_count": 150,
     "metadata": {},
     "output_type": "execute_result"
    }
   ],
   "source": [
    "filter=(movie_list[\"number of ratings\"] > 10)\n",
    "my_predicted_rating = predicted_rating[:,0]\n",
    "indx = np.argsort(-my_predicter_rating)\n",
    "\n",
    "\n",
    "movie_list.loc[indx].loc[filter].head(20)"
   ]
  },
  {
   "cell_type": "code",
   "execution_count": 151,
   "id": "ba912636-6e28-403d-a84a-4b82b6f32809",
   "metadata": {},
   "outputs": [
    {
     "data": {
      "text/html": [
       "<div>\n",
       "<style scoped>\n",
       "    .dataframe tbody tr th:only-of-type {\n",
       "        vertical-align: middle;\n",
       "    }\n",
       "\n",
       "    .dataframe tbody tr th {\n",
       "        vertical-align: top;\n",
       "    }\n",
       "\n",
       "    .dataframe thead th {\n",
       "        text-align: right;\n",
       "    }\n",
       "</style>\n",
       "<table border=\"1\" class=\"dataframe\">\n",
       "  <thead>\n",
       "    <tr style=\"text-align: right;\">\n",
       "      <th></th>\n",
       "      <th>Unnamed: 0</th>\n",
       "      <th>mean rating</th>\n",
       "      <th>number of ratings</th>\n",
       "      <th>title</th>\n",
       "    </tr>\n",
       "  </thead>\n",
       "  <tbody>\n",
       "    <tr>\n",
       "      <th>4</th>\n",
       "      <td>4</td>\n",
       "      <td>2.672414</td>\n",
       "      <td>29</td>\n",
       "      <td>Scream 3 (2000)</td>\n",
       "    </tr>\n",
       "    <tr>\n",
       "      <th>5</th>\n",
       "      <td>5</td>\n",
       "      <td>4.220930</td>\n",
       "      <td>43</td>\n",
       "      <td>Boondock Saints, The (2000)</td>\n",
       "    </tr>\n",
       "    <tr>\n",
       "      <th>7</th>\n",
       "      <td>7</td>\n",
       "      <td>3.062500</td>\n",
       "      <td>32</td>\n",
       "      <td>Beach, The (2000)</td>\n",
       "    </tr>\n",
       "    <tr>\n",
       "      <th>10</th>\n",
       "      <td>10</td>\n",
       "      <td>3.714286</td>\n",
       "      <td>21</td>\n",
       "      <td>Boiler Room (2000)</td>\n",
       "    </tr>\n",
       "    <tr>\n",
       "      <th>12</th>\n",
       "      <td>12</td>\n",
       "      <td>3.564103</td>\n",
       "      <td>39</td>\n",
       "      <td>Pitch Black (2000)</td>\n",
       "    </tr>\n",
       "    <tr>\n",
       "      <th>...</th>\n",
       "      <td>...</td>\n",
       "      <td>...</td>\n",
       "      <td>...</td>\n",
       "      <td>...</td>\n",
       "    </tr>\n",
       "    <tr>\n",
       "      <th>4631</th>\n",
       "      <td>4631</td>\n",
       "      <td>3.423077</td>\n",
       "      <td>13</td>\n",
       "      <td>Dunkirk (2017)</td>\n",
       "    </tr>\n",
       "    <tr>\n",
       "      <th>4653</th>\n",
       "      <td>4653</td>\n",
       "      <td>3.805556</td>\n",
       "      <td>18</td>\n",
       "      <td>Blade Runner 2049 (2017)</td>\n",
       "    </tr>\n",
       "    <tr>\n",
       "      <th>4668</th>\n",
       "      <td>4668</td>\n",
       "      <td>3.538462</td>\n",
       "      <td>13</td>\n",
       "      <td>Coco (2017)</td>\n",
       "    </tr>\n",
       "    <tr>\n",
       "      <th>4691</th>\n",
       "      <td>4691</td>\n",
       "      <td>3.125000</td>\n",
       "      <td>12</td>\n",
       "      <td>Star Wars: The Last Jedi (2017)</td>\n",
       "    </tr>\n",
       "    <tr>\n",
       "      <th>4747</th>\n",
       "      <td>4747</td>\n",
       "      <td>3.875000</td>\n",
       "      <td>12</td>\n",
       "      <td>Deadpool 2 (2018)</td>\n",
       "    </tr>\n",
       "  </tbody>\n",
       "</table>\n",
       "<p>879 rows × 4 columns</p>\n",
       "</div>"
      ],
      "text/plain": [
       "      Unnamed: 0  mean rating  number of ratings  \\\n",
       "4              4     2.672414                 29   \n",
       "5              5     4.220930                 43   \n",
       "7              7     3.062500                 32   \n",
       "10            10     3.714286                 21   \n",
       "12            12     3.564103                 39   \n",
       "...          ...          ...                ...   \n",
       "4631        4631     3.423077                 13   \n",
       "4653        4653     3.805556                 18   \n",
       "4668        4668     3.538462                 13   \n",
       "4691        4691     3.125000                 12   \n",
       "4747        4747     3.875000                 12   \n",
       "\n",
       "                                title  \n",
       "4                     Scream 3 (2000)  \n",
       "5         Boondock Saints, The (2000)  \n",
       "7                   Beach, The (2000)  \n",
       "10                 Boiler Room (2000)  \n",
       "12                 Pitch Black (2000)  \n",
       "...                               ...  \n",
       "4631                   Dunkirk (2017)  \n",
       "4653         Blade Runner 2049 (2017)  \n",
       "4668                      Coco (2017)  \n",
       "4691  Star Wars: The Last Jedi (2017)  \n",
       "4747                Deadpool 2 (2018)  \n",
       "\n",
       "[879 rows x 4 columns]"
      ]
     },
     "execution_count": 151,
     "metadata": {},
     "output_type": "execute_result"
    }
   ],
   "source": [
    "movie_list[filter]"
   ]
  },
  {
   "cell_type": "code",
   "execution_count": 153,
   "id": "a693c5cd-2c5a-49ef-956b-5f338b308833",
   "metadata": {},
   "outputs": [],
   "source": [
    "import pickle\n",
    "\n",
    "variables = {'W': W, 'X': X, 'B': B}\n",
    "with open('MovieRecommender', 'wb') as f:\n",
    "    pickle.dump(variables, f)"
   ]
  },
  {
   "cell_type": "code",
   "execution_count": null,
   "id": "5b61c7f5-4bd0-4985-81c5-36f91e811d7c",
   "metadata": {},
   "outputs": [],
   "source": []
  }
 ],
 "metadata": {
  "kernelspec": {
   "display_name": "Python 3 (ipykernel)",
   "language": "python",
   "name": "python3"
  },
  "language_info": {
   "codemirror_mode": {
    "name": "ipython",
    "version": 3
   },
   "file_extension": ".py",
   "mimetype": "text/x-python",
   "name": "python",
   "nbconvert_exporter": "python",
   "pygments_lexer": "ipython3",
   "version": "3.11.4"
  }
 },
 "nbformat": 4,
 "nbformat_minor": 5
}
